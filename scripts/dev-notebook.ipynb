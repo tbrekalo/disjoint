{
 "cells": [
  {
   "cell_type": "markdown",
   "metadata": {},
   "source": [
    "# Disjoint\n",
    "\n",
    "This is a main development notebook used for test data generation and benchmark analysis. The main goal is to see how algorithm design and data distribution impact the runtime cost of finding unique sets in a set of sets."
   ]
  },
  {
   "cell_type": "code",
   "execution_count": 1,
   "metadata": {},
   "outputs": [],
   "source": [
    "import matplotlib.pyplot as plt\n",
    "import numpy as np\n",
    "import pandas as pd\n",
    "import seaborn as sns\n",
    "\n",
    "import dispy"
   ]
  },
  {
   "cell_type": "code",
   "execution_count": 20,
   "metadata": {},
   "outputs": [],
   "source": [
    "def gen_rng_set(gen, n_sets, set_size) -> np.array:\n",
    "    return gen.integers(2, size=[n_sets, set_size])\n",
    "\n",
    "def gen_uniq_rng_set(n_sets, set_size, seed=42, iterations=1e5) -> np.array:\n",
    "    dst = np.empty((0, set_size), dtype=np.int32)\n",
    "    gen = np.random.default_rng(seed=seed)\n",
    "    for _ in range(int(iterations)):\n",
    "        dst = np.vstack((\n",
    "            dst,\n",
    "            gen_rng_set(\n",
    "                gen,\n",
    "                n_sets=n_sets-len(dst),\n",
    "                set_size=set_size,\n",
    "            )\n",
    "        ))\n",
    "\n",
    "        if len(dst) == n_sets:\n",
    "            break\n",
    "\n",
    "    return dst\n",
    "\n",
    "np_sets = gen_uniq_rng_set(1000, 10)\n"
   ]
  },
  {
   "cell_type": "code",
   "execution_count": 21,
   "metadata": {},
   "outputs": [
    {
     "name": "stdout",
     "output_type": "stream",
     "text": [
      "627\n"
     ]
    }
   ],
   "source": [
    "uniques, cnts = np.unique(np_sets, axis=0, return_counts=True)\n",
    "print(len(uniques))"
   ]
  },
  {
   "cell_type": "code",
   "execution_count": 22,
   "metadata": {},
   "outputs": [],
   "source": [
    "tb_sets = dispy.create_subsets(np_sets)"
   ]
  },
  {
   "cell_type": "code",
   "execution_count": 23,
   "metadata": {},
   "outputs": [
    {
     "name": "stdout",
     "output_type": "stream",
     "text": [
      "627\n"
     ]
    }
   ],
   "source": [
    "len(tb_sets)\n",
    "print(len(dispy.unique(tb_sets)))"
   ]
  },
  {
   "cell_type": "code",
   "execution_count": 24,
   "metadata": {},
   "outputs": [
    {
     "name": "stdout",
     "output_type": "stream",
     "text": [
      "2.83 ms ± 143 µs per loop (mean ± std. dev. of 7 runs, 100 loops each)\n"
     ]
    }
   ],
   "source": [
    "%%timeit\n",
    "np.unique(np_sets, axis=0)"
   ]
  },
  {
   "cell_type": "code",
   "execution_count": 26,
   "metadata": {},
   "outputs": [
    {
     "name": "stdout",
     "output_type": "stream",
     "text": [
      "499 µs ± 84.1 µs per loop (mean ± std. dev. of 7 runs, 1,000 loops each)\n"
     ]
    }
   ],
   "source": [
    "%%timeit\n",
    "dispy.unique(tb_sets)"
   ]
  }
 ],
 "metadata": {
  "kernelspec": {
   "display_name": "venv",
   "language": "python",
   "name": "python3"
  },
  "language_info": {
   "codemirror_mode": {
    "name": "ipython",
    "version": 3
   },
   "file_extension": ".py",
   "mimetype": "text/x-python",
   "name": "python",
   "nbconvert_exporter": "python",
   "pygments_lexer": "ipython3",
   "version": "3.11.6"
  }
 },
 "nbformat": 4,
 "nbformat_minor": 2
}
